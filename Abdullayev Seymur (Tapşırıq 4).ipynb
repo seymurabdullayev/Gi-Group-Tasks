{
  "cells": [
    {
      "cell_type": "markdown",
      "id": "ec53d096",
      "metadata": {
        "id": "ec53d096"
      },
      "source": [
        "# GOOD LUCK!"
      ]
    },
    {
      "cell_type": "markdown",
      "id": "8e5408b3",
      "metadata": {
        "id": "8e5408b3"
      },
      "source": [
        "**1. Write the code to display the result as \"You must believe in yourself\" for the list a = [\"You\",\"must\",\"believe\",\"in\",\"yourself\"].**"
      ]
    },
    {
      "cell_type": "code",
      "source": [
        "a = [\"You\",\"must\",\"believe\",\"in\",\"yourself\"]\n",
        "for word in a:\n",
        "  print(word,end=\" \")"
      ],
      "metadata": {
        "id": "-QldVWSInIbZ",
        "outputId": "769d5425-d5be-4604-e625-e572f9f9eb1d",
        "colab": {
          "base_uri": "https://localhost:8080/"
        }
      },
      "id": "-QldVWSInIbZ",
      "execution_count": null,
      "outputs": [
        {
          "output_type": "stream",
          "name": "stdout",
          "text": [
            "You must believe in yourself "
          ]
        }
      ]
    },
    {
      "cell_type": "markdown",
      "id": "bf640653",
      "metadata": {
        "id": "bf640653"
      },
      "source": [
        "**2. Ratings = (14, 9, 60, 52, 10, 18, 99, 76, 2).    Sort this tuple in descending order and display the result. Then reverse the element of this tuple and display the result.**"
      ]
    },
    {
      "cell_type": "code",
      "source": [
        "Ratings = (14, 9, 60, 52, 10, 18, 99, 76, 2)\n",
        "b=sorted(Ratings,reverse=True)\n",
        "c=tuple(b)\n",
        "print(c)"
      ],
      "metadata": {
        "id": "HNyaiYe-5Tst",
        "outputId": "1cb8e7ca-fd40-4ae4-f823-e80fae744cf8",
        "colab": {
          "base_uri": "https://localhost:8080/"
        }
      },
      "id": "HNyaiYe-5Tst",
      "execution_count": null,
      "outputs": [
        {
          "output_type": "stream",
          "name": "stdout",
          "text": [
            "(99, 76, 60, 52, 18, 14, 10, 9, 2)\n"
          ]
        }
      ]
    },
    {
      "cell_type": "markdown",
      "id": "5648cf3a",
      "metadata": {
        "id": "5648cf3a"
      },
      "source": [
        "**3. Get a word from the user and write the code to display the vowels in that word.**"
      ]
    },
    {
      "cell_type": "code",
      "source": [
        "word=input('Enter the word: ')\n",
        "vowels=['a','ı','o','u','e','ə','i','ö','ü']\n",
        "vowel_list=[]\n",
        "for i in word:\n",
        "  if i.lower() in vowels:\n",
        "    vowel_list.append(i)\n",
        "print(vowel_list)"
      ],
      "metadata": {
        "id": "xjnJqQmouiKQ",
        "outputId": "5062420a-1fe1-463e-cc87-8a9cb1c69a6d",
        "colab": {
          "base_uri": "https://localhost:8080/"
        }
      },
      "id": "xjnJqQmouiKQ",
      "execution_count": null,
      "outputs": [
        {
          "output_type": "stream",
          "name": "stdout",
          "text": [
            "Enter the word: Mollanəsrəddinləşdirilmişləndənsinizmi\n",
            "['o', 'a', 'ə', 'ə', 'i', 'ə', 'i', 'i', 'i', 'ə', 'ə', 'i', 'i', 'i']\n"
          ]
        }
      ]
    },
    {
      "cell_type": "markdown",
      "id": "658805ba",
      "metadata": {
        "id": "658805ba"
      },
      "source": [
        "**4. Write code to display the ages of customers older than 65 in a list named 'customer' using the following list:\n",
        "ages = [30, 21, 67, 49, 78, 29, 57, 27, 20, 18].**"
      ]
    },
    {
      "cell_type": "code",
      "source": [
        "ages = [30, 21, 67, 49, 78, 29, 57, 27, 20, 18]\n",
        "customer = [i for i in ages if i > 65]\n",
        "print('Costumer: ', costumer)"
      ],
      "metadata": {
        "id": "DI60M62uyk23",
        "outputId": "e426123f-6a96-44bc-eae1-bc5218866cfe",
        "colab": {
          "base_uri": "https://localhost:8080/"
        }
      },
      "id": "DI60M62uyk23",
      "execution_count": null,
      "outputs": [
        {
          "output_type": "stream",
          "name": "stdout",
          "text": [
            "Costumer:  [67, 78]\n"
          ]
        }
      ]
    },
    {
      "cell_type": "markdown",
      "id": "a8025264",
      "metadata": {
        "id": "a8025264"
      },
      "source": [
        "**5. Get a full name from the user (for example: Seval Hüseynzade Hüseyn qızı) and write the code to display surname.**"
      ]
    },
    {
      "cell_type": "code",
      "execution_count": null,
      "id": "17d50b75",
      "metadata": {
        "id": "17d50b75",
        "outputId": "c82bda57-76ba-499e-d52d-2898197a7ae5",
        "colab": {
          "base_uri": "https://localhost:8080/"
        }
      },
      "outputs": [
        {
          "output_type": "stream",
          "name": "stdout",
          "text": [
            "Enter your full name: Seymur Abdullayev Rəfael oğlu\n",
            "Abdullayev\n"
          ]
        }
      ],
      "source": [
        "full_name=input('Enter your full name: ')\n",
        "surname=full_name.split()[1]\n",
        "print(surname)"
      ]
    }
  ],
  "metadata": {
    "kernelspec": {
      "display_name": "Python 3 (ipykernel)",
      "language": "python",
      "name": "python3"
    },
    "language_info": {
      "codemirror_mode": {
        "name": "ipython",
        "version": 3
      },
      "file_extension": ".py",
      "mimetype": "text/x-python",
      "name": "python",
      "nbconvert_exporter": "python",
      "pygments_lexer": "ipython3",
      "version": "3.9.12"
    },
    "colab": {
      "provenance": []
    }
  },
  "nbformat": 4,
  "nbformat_minor": 5
}
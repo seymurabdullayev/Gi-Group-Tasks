{
  "cells": [
    {
      "cell_type": "markdown",
      "id": "265e4bdd",
      "metadata": {
        "id": "265e4bdd"
      },
      "source": [
        "**1. Find maximum and minimum number of numbers list.**\n",
        "\n",
        "**numbers = [23, 67, 45, 98, 43, 21, 76, 77, 65].**\n",
        "\n",
        "**Use for loop.**"
      ]
    },
    {
      "cell_type": "code",
      "source": [
        "numbers = [23, 67, 45, 98, 43, 21, 76, 77, 65]\n",
        "maximum=numbers[0]\n",
        "minimum=numbers[0]\n",
        "for i in numbers:\n",
        "  if i > maximum:\n",
        "    maximum=i\n",
        "  if i < minimum:\n",
        "    minimum=i\n",
        "print(maximum)\n",
        "print(minimum)"
      ],
      "metadata": {
        "id": "eMqUQTNmJV-s",
        "outputId": "cad1431a-5490-4c12-d45e-687f8c8af9b7",
        "colab": {
          "base_uri": "https://localhost:8080/"
        }
      },
      "id": "eMqUQTNmJV-s",
      "execution_count": null,
      "outputs": [
        {
          "output_type": "stream",
          "name": "stdout",
          "text": [
            "98\n",
            "21\n"
          ]
        }
      ]
    },
    {
      "cell_type": "markdown",
      "id": "cbd54cc0",
      "metadata": {
        "id": "cbd54cc0"
      },
      "source": [
        "Nested tuple: A tuple can contain another tuple as well as other more complex data types. This process is called 'nesting'.¶"
      ]
    },
    {
      "cell_type": "markdown",
      "id": "babb7968",
      "metadata": {
        "id": "babb7968"
      },
      "source": [
        "**2. Use slicing to obtain indexes 3, 4 and 5.            \n",
        "NestedT =(1, 2, (\"pop\", \"rock\") ,(3,4),(\"disco\",(1,2)), 7.5, 0)**"
      ]
    },
    {
      "cell_type": "code",
      "source": [
        "NestedT =(1, 2, (\"pop\", \"rock\") ,(3,4),(\"disco\",(1,2)), 7.5, 0)\n",
        "print(NestedT[3],NestedT[4],NestedT[5])"
      ],
      "metadata": {
        "id": "_tlxQWks9sor",
        "outputId": "ff9b116b-37b1-4abb-80b3-4b2ac17a7907",
        "colab": {
          "base_uri": "https://localhost:8080/"
        }
      },
      "id": "_tlxQWks9sor",
      "execution_count": null,
      "outputs": [
        {
          "output_type": "stream",
          "name": "stdout",
          "text": [
            "(3, 4) ('disco', (1, 2)) 7.5\n"
          ]
        }
      ]
    },
    {
      "cell_type": "markdown",
      "id": "c1659605",
      "metadata": {
        "id": "c1659605"
      },
      "source": [
        "**3. Create a dictionary named Dict with he following details:**\n",
        "\n",
        "**Keys are key1, key2, key3, key4, key5.**\n",
        "\n",
        "**Values are {1,2,[3,3,3],(4,4,4),5} corresponding to the keys.**"
      ]
    },
    {
      "cell_type": "code",
      "source": [
        "Dict={'key1':1, 'key2':2, 'key3':[3,3,3], 'key4':(4,4,4), 'key5':5}\n",
        "print(Dict)"
      ],
      "metadata": {
        "id": "Q1CmTFEC_1sN",
        "outputId": "959056d9-28e8-4747-f615-835c9ae6e196",
        "colab": {
          "base_uri": "https://localhost:8080/"
        }
      },
      "id": "Q1CmTFEC_1sN",
      "execution_count": null,
      "outputs": [
        {
          "output_type": "stream",
          "name": "stdout",
          "text": [
            "{'key1': 1, 'key2': 2, 'key3': [3, 3, 3], 'key4': (4, 4, 4), 'key5': 5}\n"
          ]
        }
      ]
    },
    {
      "cell_type": "markdown",
      "id": "e654bb5d",
      "metadata": {
        "id": "e654bb5d"
      },
      "source": [
        "**4. Delete first and last elements by key.**"
      ]
    },
    {
      "cell_type": "code",
      "source": [
        "Dict={'key1':1, 'key2':2, 'key3':[3,3,3], 'key4':(4,4,4), 'key5':5}\n",
        "first_key=list(Dict.keys())[0]\n",
        "last_key=list(Dict.keys())[-1]\n",
        "Dict.pop(first_key) and Dict.pop(last_key)\n",
        "print(Dict)"
      ],
      "metadata": {
        "id": "2rQaGXmNBgA7",
        "outputId": "69fef704-8d1b-41bf-a064-776fb3465f32",
        "colab": {
          "base_uri": "https://localhost:8080/"
        }
      },
      "id": "2rQaGXmNBgA7",
      "execution_count": null,
      "outputs": [
        {
          "output_type": "stream",
          "name": "stdout",
          "text": [
            "{'key2': 2, 'key3': [3, 3, 3], 'key4': (4, 4, 4)}\n"
          ]
        }
      ]
    },
    {
      "cell_type": "markdown",
      "id": "006077fe",
      "metadata": {
        "id": "006077fe"
      },
      "source": [
        "**5. set1 = set([\"Thriller\", 'AC/DC', 'Back in Black'])**\n",
        "\n",
        "**set2 = set([ \"AC/DC\", \"Back in Black\", \"The Dark Side of the Moon\"])**\n",
        "\n",
        "**a) Find the intersections;**\n",
        "\n",
        "**b) Find the union of two sets;**\n",
        "\n",
        "**c) Find the difference in set1 but not set2;**\n",
        "\n",
        "**d) Find the symmetric difference.**"
      ]
    },
    {
      "cell_type": "code",
      "execution_count": null,
      "id": "dc0f8699",
      "metadata": {
        "id": "dc0f8699",
        "outputId": "e89c09cf-8312-4584-c46c-659a00377b29",
        "colab": {
          "base_uri": "https://localhost:8080/"
        }
      },
      "outputs": [
        {
          "output_type": "stream",
          "name": "stdout",
          "text": [
            "{'Back in Black', 'AC/DC'}\n"
          ]
        }
      ],
      "source": [
        "set1 = set([\"Thriller\", 'AC/DC', 'Back in Black'])\n",
        "set2 = set([ \"AC/DC\", \"Back in Black\", \"The Dark Side of the Moon\"])\n",
        "#a)\n",
        "intersection= set1 & set2\n",
        "print(intersection)\n"
      ]
    },
    {
      "cell_type": "code",
      "source": [
        "set1 = set([\"Thriller\", 'AC/DC', 'Back in Black'])\n",
        "set2 = set([\"AC/DC\", \"Back in Black\", \"The Dark Side of the Moon\"])\n",
        "#a\n",
        "intersection = [word for word in set1 if word in set2]\n",
        "print(set(intersection))"
      ],
      "metadata": {
        "id": "1Smp4pcrE1s8",
        "outputId": "b72b048b-c522-47b3-d510-6f0a43e652c7",
        "colab": {
          "base_uri": "https://localhost:8080/"
        }
      },
      "id": "1Smp4pcrE1s8",
      "execution_count": null,
      "outputs": [
        {
          "output_type": "stream",
          "name": "stdout",
          "text": [
            "{'Back in Black', 'AC/DC'}\n"
          ]
        }
      ]
    },
    {
      "cell_type": "code",
      "source": [
        "set1 = set([\"Thriller\", 'AC/DC', 'Back in Black'])\n",
        "set2 = set([ \"AC/DC\", \"Back in Black\", \"The Dark Side of the Moon\"])\n",
        "#b\n",
        "union_sets = set1 | set2\n",
        "print(union_sets)\n"
      ],
      "metadata": {
        "id": "pBR_hQIyEOBY",
        "outputId": "ebcf23bd-326b-4da5-d800-c035119385b4",
        "colab": {
          "base_uri": "https://localhost:8080/"
        }
      },
      "id": "pBR_hQIyEOBY",
      "execution_count": null,
      "outputs": [
        {
          "output_type": "stream",
          "name": "stdout",
          "text": [
            "{'The Dark Side of the Moon', 'Thriller', 'Back in Black', 'AC/DC'}\n"
          ]
        }
      ]
    },
    {
      "cell_type": "code",
      "source": [
        "set1 = set([\"Thriller\", 'AC/DC', 'Back in Black'])\n",
        "set2 = set([ \"AC/DC\", \"Back in Black\", \"The Dark Side of the Moon\"])\n",
        "#c\n",
        "difference_in_set1_but_not_set2 = set1 - set2\n",
        "print(difference_in_set1_but_not_set2)"
      ],
      "metadata": {
        "id": "HcndDK6fHdXV",
        "outputId": "f645109c-1edb-4056-99c3-d180f5141935",
        "colab": {
          "base_uri": "https://localhost:8080/"
        }
      },
      "id": "HcndDK6fHdXV",
      "execution_count": null,
      "outputs": [
        {
          "output_type": "stream",
          "name": "stdout",
          "text": [
            "{'Thriller'}\n"
          ]
        }
      ]
    },
    {
      "cell_type": "code",
      "source": [
        "set1 = set([\"Thriller\", 'AC/DC', 'Back in Black'])\n",
        "set2 = set([ \"AC/DC\", \"Back in Black\", \"The Dark Side of the Moon\"])\n",
        "#d\n",
        "symmetric_difference = set1^set2\n",
        "print(symmetric_difference)"
      ],
      "metadata": {
        "id": "9bUwKNwkILZN",
        "outputId": "b5f73479-76f2-46e2-f8f7-f6b76686d4ed",
        "colab": {
          "base_uri": "https://localhost:8080/"
        }
      },
      "id": "9bUwKNwkILZN",
      "execution_count": null,
      "outputs": [
        {
          "output_type": "stream",
          "name": "stdout",
          "text": [
            "{'The Dark Side of the Moon', 'Thriller'}\n"
          ]
        }
      ]
    }
  ],
  "metadata": {
    "kernelspec": {
      "display_name": "Python 3 (ipykernel)",
      "language": "python",
      "name": "python3"
    },
    "language_info": {
      "codemirror_mode": {
        "name": "ipython",
        "version": 3
      },
      "file_extension": ".py",
      "mimetype": "text/x-python",
      "name": "python",
      "nbconvert_exporter": "python",
      "pygments_lexer": "ipython3",
      "version": "3.9.12"
    },
    "colab": {
      "provenance": []
    }
  },
  "nbformat": 4,
  "nbformat_minor": 5
}
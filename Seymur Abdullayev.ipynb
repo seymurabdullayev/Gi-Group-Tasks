{
 "cells": [
  {
   "cell_type": "markdown",
   "id": "e53d3b22",
   "metadata": {},
   "source": [
    "# Good luck!"
   ]
  },
  {
   "cell_type": "markdown",
   "id": "05e1232e",
   "metadata": {},
   "source": [
    "**1. Try to correct this error:**\n",
    "    \n",
    "    frint(\"Hello-Python!')"
   ]
  },
  {
   "cell_type": "code",
   "execution_count": 1,
   "id": "4381a7f0",
   "metadata": {},
   "outputs": [
    {
     "name": "stdout",
     "output_type": "stream",
     "text": [
      "Hello_Phyton!\n"
     ]
    }
   ],
   "source": [
    "print('Hello_Phyton!')"
   ]
  },
  {
   "cell_type": "markdown",
   "id": "2652bbf4",
   "metadata": {},
   "source": [
    "**2. Convert 34 to a float.**"
   ]
  },
  {
   "cell_type": "code",
   "execution_count": 9,
   "id": "7fd3db13",
   "metadata": {},
   "outputs": [
    {
     "data": {
      "text/plain": [
       "34.0"
      ]
     },
     "execution_count": 9,
     "metadata": {},
     "output_type": "execute_result"
    }
   ],
   "source": [
    "float('34')"
   ]
  },
  {
   "cell_type": "markdown",
   "id": "4b3068c0",
   "metadata": {},
   "source": [
    "**3. Convert 0 to boolean.**"
   ]
  },
  {
   "cell_type": "code",
   "execution_count": 10,
   "id": "4ece200a",
   "metadata": {},
   "outputs": [
    {
     "data": {
      "text/plain": [
       "False"
      ]
     },
     "execution_count": 10,
     "metadata": {},
     "output_type": "execute_result"
    }
   ],
   "source": [
    "bool(0)"
   ]
  },
  {
   "cell_type": "markdown",
   "id": "67de7da2",
   "metadata": {},
   "source": [
    "**4. Print the data type of the result of: 7 // 3.**"
   ]
  },
  {
   "cell_type": "code",
   "execution_count": 2,
   "id": "2440b2a8",
   "metadata": {},
   "outputs": [
    {
     "data": {
      "text/plain": [
       "2"
      ]
     },
     "execution_count": 2,
     "metadata": {},
     "output_type": "execute_result"
    }
   ],
   "source": [
    "7//3"
   ]
  },
  {
   "cell_type": "markdown",
   "id": "24473657",
   "metadata": {},
   "source": [
    "**5. Find the length of the string \"Data Science\".**"
   ]
  },
  {
   "cell_type": "code",
   "execution_count": 3,
   "id": "030ec837",
   "metadata": {},
   "outputs": [
    {
     "name": "stdout",
     "output_type": "stream",
     "text": [
      "12\n"
     ]
    }
   ],
   "source": [
    "print(len('Data Science'))"
   ]
  },
  {
   "cell_type": "markdown",
   "id": "db4b1440",
   "metadata": {},
   "source": [
    "**6. Print the last element in this string.**"
   ]
  },
  {
   "cell_type": "code",
   "execution_count": 5,
   "id": "2990f186",
   "metadata": {},
   "outputs": [],
   "source": [
    "m='Data Science'"
   ]
  },
  {
   "cell_type": "code",
   "execution_count": 6,
   "id": "3efa1d32",
   "metadata": {},
   "outputs": [
    {
     "name": "stdout",
     "output_type": "stream",
     "text": [
      "e\n"
     ]
    }
   ],
   "source": [
    "print(m[11])"
   ]
  },
  {
   "cell_type": "markdown",
   "id": "5af26c50",
   "metadata": {},
   "source": [
    "**7. Get every second element in the range from index 0 to index 4 in this string.**"
   ]
  },
  {
   "cell_type": "code",
   "execution_count": 1,
   "id": "b697ac15",
   "metadata": {},
   "outputs": [],
   "source": [
    "m='Data Science'"
   ]
  },
  {
   "cell_type": "code",
   "execution_count": 2,
   "id": "4f63ac47",
   "metadata": {},
   "outputs": [
    {
     "name": "stdout",
     "output_type": "stream",
     "text": [
      "Dt \n"
     ]
    }
   ],
   "source": [
    "print(m[0:5:2])"
   ]
  },
  {
   "cell_type": "markdown",
   "id": "98cfb44f",
   "metadata": {},
   "source": [
    "**8. Convert the variable m to lowercase: m = \"I am a minimalist person\".**"
   ]
  },
  {
   "cell_type": "code",
   "execution_count": 18,
   "id": "c1b6fb54",
   "metadata": {},
   "outputs": [],
   "source": [
    "m='I am a minimalist person'"
   ]
  },
  {
   "cell_type": "code",
   "execution_count": 19,
   "id": "8f5d6743",
   "metadata": {},
   "outputs": [
    {
     "name": "stdout",
     "output_type": "stream",
     "text": [
      "i am a minimalist person\n"
     ]
    }
   ],
   "source": [
    "print(m.lower())"
   ]
  },
  {
   "cell_type": "markdown",
   "id": "c287dcc8",
   "metadata": {},
   "source": [
    "**9. Consider the variable g, and find the first index of the sub-string \"snow\" and replace the sub-string Mary with Tom.**\n",
    "\n",
    "\n",
    "g = \"Mary had a little lamb Little lamb, little lamb Mary had a little lamb\n",
    "Its fleece was white as snow And everywhere that Mary went Mary went, Mary went\n",
    "Everywhere that Mary went The lamb was sure to go\""
   ]
  },
  {
   "cell_type": "code",
   "execution_count": 4,
   "id": "377eea66",
   "metadata": {},
   "outputs": [],
   "source": [
    "g='Mary had a little lamb Little lamb, little lamb Mary had a little lamb Its fleece was white as snow And everywhere that Mary went Mary went, Mary went Everywhere that Mary went The lamb was sure to go'"
   ]
  },
  {
   "cell_type": "code",
   "execution_count": 16,
   "id": "7396e73e",
   "metadata": {},
   "outputs": [
    {
     "name": "stdout",
     "output_type": "stream",
     "text": [
      "Tom had a little lamb Little lamb, little lamb Tom had a little lamb Its fleece was white as snow And everywhere that Tom went Tom went, Tom went Everywhere that Tom went The lamb was sure to go\n"
     ]
    }
   ],
   "source": [
    "print(g.replace('Mary','Tom'))"
   ]
  },
  {
   "cell_type": "code",
   "execution_count": 8,
   "id": "51406b59",
   "metadata": {},
   "outputs": [],
   "source": [
    "d='snow'"
   ]
  },
  {
   "cell_type": "code",
   "execution_count": 9,
   "id": "3c32e163",
   "metadata": {},
   "outputs": [
    {
     "name": "stdout",
     "output_type": "stream",
     "text": [
      "s\n"
     ]
    }
   ],
   "source": [
    "print(d[0])"
   ]
  },
  {
   "cell_type": "markdown",
   "id": "d2e6dd43",
   "metadata": {},
   "source": [
    "**10. In the variable g, split the substring to list.**"
   ]
  },
  {
   "cell_type": "code",
   "execution_count": 5,
   "id": "c5d129d3",
   "metadata": {},
   "outputs": [
    {
     "data": {
      "text/plain": [
       "['Mary',\n",
       " 'had',\n",
       " 'a',\n",
       " 'little',\n",
       " 'lamb',\n",
       " 'Little',\n",
       " 'lamb,',\n",
       " 'little',\n",
       " 'lamb',\n",
       " 'Mary',\n",
       " 'had',\n",
       " 'a',\n",
       " 'little',\n",
       " 'lamb',\n",
       " 'Its',\n",
       " 'fleece',\n",
       " 'was',\n",
       " 'white',\n",
       " 'as',\n",
       " 'snow',\n",
       " 'And',\n",
       " 'everywhere',\n",
       " 'that',\n",
       " 'Mary',\n",
       " 'went',\n",
       " 'Mary',\n",
       " 'went,',\n",
       " 'Mary',\n",
       " 'went',\n",
       " 'Everywhere',\n",
       " 'that',\n",
       " 'Mary',\n",
       " 'went',\n",
       " 'The',\n",
       " 'lamb',\n",
       " 'was',\n",
       " 'sure',\n",
       " 'to',\n",
       " 'go']"
      ]
     },
     "execution_count": 5,
     "metadata": {},
     "output_type": "execute_result"
    }
   ],
   "source": [
    "g.split()"
   ]
  },
  {
   "cell_type": "code",
   "execution_count": null,
   "id": "e3c41543",
   "metadata": {},
   "outputs": [],
   "source": []
  }
 ],
 "metadata": {
  "kernelspec": {
   "display_name": "Python 3 (ipykernel)",
   "language": "python",
   "name": "python3"
  },
  "language_info": {
   "codemirror_mode": {
    "name": "ipython",
    "version": 3
   },
   "file_extension": ".py",
   "mimetype": "text/x-python",
   "name": "python",
   "nbconvert_exporter": "python",
   "pygments_lexer": "ipython3",
   "version": "3.11.5"
  }
 },
 "nbformat": 4,
 "nbformat_minor": 5
}

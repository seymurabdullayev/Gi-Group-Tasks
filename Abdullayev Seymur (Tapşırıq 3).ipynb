{
  "cells": [
    {
      "cell_type": "markdown",
      "id": "2842f859",
      "metadata": {
        "id": "2842f859"
      },
      "source": [
        "**1.  Phone number is +99470-500-97-87 . Print phone number using for loop as +994705009787.**"
      ]
    },
    {
      "cell_type": "code",
      "source": [
        "phone_number='+99470-500-97-87'\n",
        "for i in phone_number:\n",
        "  if i=='-':\n",
        "    continue\n",
        "  print(i,end='')"
      ],
      "metadata": {
        "id": "gaIVUIlDdxLi",
        "outputId": "0373885e-c0c3-4f6e-cd89-c221c21d790f",
        "colab": {
          "base_uri": "https://localhost:8080/"
        }
      },
      "id": "gaIVUIlDdxLi",
      "execution_count": 1,
      "outputs": [
        {
          "output_type": "stream",
          "name": "stdout",
          "text": [
            "+994705009787"
          ]
        }
      ]
    },
    {
      "cell_type": "markdown",
      "id": "ef64024a",
      "metadata": {
        "id": "ef64024a"
      },
      "source": [
        "**2. The user to enter her/his age, checks if the age is greater than 65, and if so, it breaks out of the loop. Otherwise, it prints the entered age.**"
      ]
    },
    {
      "cell_type": "code",
      "source": [
        "while True:\n",
        "  her_age=int(input('Enter her age: '))\n",
        "  if her_age>65:\n",
        "    print('She is over 65 years old.')\n",
        "    break\n",
        "  else:\n",
        "    print('She is: ', her_age)"
      ],
      "metadata": {
        "id": "nyk0uyVIeehE",
        "outputId": "a5821965-2a3f-4c21-c951-e08166f43d71",
        "colab": {
          "base_uri": "https://localhost:8080/"
        }
      },
      "id": "nyk0uyVIeehE",
      "execution_count": 4,
      "outputs": [
        {
          "output_type": "stream",
          "name": "stdout",
          "text": [
            "Enter her age: 47\n",
            "She is:  47\n",
            "Enter her age: 67\n",
            "She is over 65 years old.\n"
          ]
        }
      ]
    },
    {
      "cell_type": "markdown",
      "id": "89b47073",
      "metadata": {
        "id": "89b47073"
      },
      "source": [
        "**3. Write a loop to print numbers from 10 to 100 except 25,50,75. Output the result in a line**"
      ]
    },
    {
      "cell_type": "code",
      "source": [
        "for num in range (10, 101):\n",
        "  if num!=25 and num!=50 and num!=75:\n",
        "    print(num, end=' ')"
      ],
      "metadata": {
        "id": "YhiblgddmwQ8",
        "outputId": "df2c8da8-3ba0-46bd-d9ec-17a1b24a60f0",
        "colab": {
          "base_uri": "https://localhost:8080/"
        }
      },
      "id": "YhiblgddmwQ8",
      "execution_count": 12,
      "outputs": [
        {
          "output_type": "stream",
          "name": "stdout",
          "text": [
            "10 11 12 13 14 15 16 17 18 19 20 21 22 23 24 26 27 28 29 30 31 32 33 34 35 36 37 38 39 40 41 42 43 44 45 46 47 48 49 51 52 53 54 55 56 57 58 59 60 61 62 63 64 65 66 67 68 69 70 71 72 73 74 76 77 78 79 80 81 82 83 84 85 86 87 88 89 90 91 92 93 94 95 96 97 98 99 100 "
          ]
        }
      ]
    },
    {
      "cell_type": "markdown",
      "id": "5c5db89a",
      "metadata": {
        "id": "5c5db89a"
      },
      "source": [
        "**4. Print all even numbers except those that are divisible by 10 out of the first 100 numbers. Use continue function.**"
      ]
    },
    {
      "cell_type": "code",
      "source": [
        "\n",
        "for num in range (1,101):\n",
        "  if num %2==0:\n",
        "    if num %10==0:\n",
        "      continue\n",
        "    print(num, end=' ')"
      ],
      "metadata": {
        "id": "hQN8kORejOPp",
        "outputId": "bff5ba34-1241-4f37-86f6-18c4dc1c71c7",
        "colab": {
          "base_uri": "https://localhost:8080/"
        }
      },
      "id": "hQN8kORejOPp",
      "execution_count": 8,
      "outputs": [
        {
          "output_type": "stream",
          "name": "stdout",
          "text": [
            "2 4 6 8 12 14 16 18 22 24 26 28 32 34 36 38 42 44 46 48 52 54 56 58 62 64 66 68 72 74 76 78 82 84 86 88 92 94 96 98 "
          ]
        }
      ]
    },
    {
      "cell_type": "markdown",
      "id": "521c04ca",
      "metadata": {
        "id": "521c04ca"
      },
      "source": [
        "**5. Ask the user to enter a number. İf the input is not a number, print \"Please enter a number\"  and exit the code. Use try and except.**"
      ]
    },
    {
      "cell_type": "code",
      "execution_count": 10,
      "id": "d39a08a9",
      "metadata": {
        "id": "d39a08a9",
        "outputId": "ed7c5336-c757-45dc-f1bc-cbb19f8c84e8",
        "colab": {
          "base_uri": "https://localhost:8080/"
        }
      },
      "outputs": [
        {
          "output_type": "stream",
          "name": "stdout",
          "text": [
            "Please enter a number: kjkjkj\n",
            "Please enter a number: \n"
          ]
        }
      ],
      "source": [
        "try:\n",
        "  num=float(input('Please enter a number: '))\n",
        "  print('I entered: ', num)\n",
        "except ValueError:\n",
        "  print('Please enter a number: ')\n",
        "\n"
      ]
    }
  ],
  "metadata": {
    "kernelspec": {
      "display_name": "Python 3 (ipykernel)",
      "language": "python",
      "name": "python3"
    },
    "language_info": {
      "codemirror_mode": {
        "name": "ipython",
        "version": 3
      },
      "file_extension": ".py",
      "mimetype": "text/x-python",
      "name": "python",
      "nbconvert_exporter": "python",
      "pygments_lexer": "ipython3",
      "version": "3.9.12"
    },
    "colab": {
      "provenance": []
    }
  },
  "nbformat": 4,
  "nbformat_minor": 5
}
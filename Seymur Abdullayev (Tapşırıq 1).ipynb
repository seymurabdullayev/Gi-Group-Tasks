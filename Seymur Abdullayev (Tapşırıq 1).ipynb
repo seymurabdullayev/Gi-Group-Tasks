{
 "cells": [
  {
   "cell_type": "markdown",
   "id": "e53d3b22",
   "metadata": {
    "id": "e53d3b22"
   },
   "source": [
    "# Good luck!"
   ]
  },
  {
   "cell_type": "markdown",
   "id": "05e1232e",
   "metadata": {
    "id": "05e1232e"
   },
   "source": [
    "**1. Try to correct this error:**\n",
    "    \n",
    "    frint(\"Hello-Python!')"
   ]
  },
  {
   "cell_type": "code",
   "execution_count": 1,
   "id": "Nb3aPouSl6gK",
   "metadata": {
    "colab": {
     "base_uri": "https://localhost:8080/"
    },
    "id": "Nb3aPouSl6gK",
    "outputId": "a32e67d7-c51f-455d-b15f-d4f20e60ac99"
   },
   "outputs": [
    {
     "name": "stdout",
     "output_type": "stream",
     "text": [
      "Hello_Phyton!\n"
     ]
    }
   ],
   "source": [
    "print('Hello_Phyton!')"
   ]
  },
  {
   "cell_type": "markdown",
   "id": "2652bbf4",
   "metadata": {
    "id": "2652bbf4"
   },
   "source": [
    "**2. Convert 34 to a float.**"
   ]
  },
  {
   "cell_type": "code",
   "execution_count": 2,
   "id": "wFMF7McumHI5",
   "metadata": {
    "id": "wFMF7McumHI5"
   },
   "outputs": [],
   "source": [
    "m='34'"
   ]
  },
  {
   "cell_type": "code",
   "execution_count": 3,
   "id": "zmpJBeVMmPdQ",
   "metadata": {
    "colab": {
     "base_uri": "https://localhost:8080/"
    },
    "id": "zmpJBeVMmPdQ",
    "outputId": "e363250e-e38c-4e27-b448-335ab93a848c"
   },
   "outputs": [
    {
     "data": {
      "text/plain": [
       "34.0"
      ]
     },
     "execution_count": 3,
     "metadata": {},
     "output_type": "execute_result"
    }
   ],
   "source": [
    "float('34')"
   ]
  },
  {
   "cell_type": "markdown",
   "id": "4b3068c0",
   "metadata": {
    "id": "4b3068c0"
   },
   "source": [
    "**3. Convert 0 to boolean.**"
   ]
  },
  {
   "cell_type": "code",
   "execution_count": 4,
   "id": "CZmJmKAZmXKU",
   "metadata": {
    "id": "CZmJmKAZmXKU"
   },
   "outputs": [],
   "source": [
    "b='0'"
   ]
  },
  {
   "cell_type": "code",
   "execution_count": 5,
   "id": "DG2WrVNJmcwd",
   "metadata": {
    "colab": {
     "base_uri": "https://localhost:8080/"
    },
    "id": "DG2WrVNJmcwd",
    "outputId": "2a4d7203-74be-4d75-d9a3-0b7b149eadfa"
   },
   "outputs": [
    {
     "data": {
      "text/plain": [
       "True"
      ]
     },
     "execution_count": 5,
     "metadata": {},
     "output_type": "execute_result"
    }
   ],
   "source": [
    "bool('0')"
   ]
  },
  {
   "cell_type": "markdown",
   "id": "67de7da2",
   "metadata": {
    "id": "67de7da2"
   },
   "source": [
    "**4. Print the data type of the result of: 7 // 3.**"
   ]
  },
  {
   "cell_type": "code",
   "execution_count": 6,
   "id": "v7m-d-JxmiRO",
   "metadata": {
    "colab": {
     "base_uri": "https://localhost:8080/"
    },
    "id": "v7m-d-JxmiRO",
    "outputId": "530234b2-e1f7-4647-93e2-ad5e431b90a2"
   },
   "outputs": [
    {
     "data": {
      "text/plain": [
       "2"
      ]
     },
     "execution_count": 6,
     "metadata": {},
     "output_type": "execute_result"
    }
   ],
   "source": [
    "7//3"
   ]
  },
  {
   "cell_type": "markdown",
   "id": "24473657",
   "metadata": {
    "id": "24473657"
   },
   "source": [
    "**5. Find the length of the string \"Data Science\".**"
   ]
  },
  {
   "cell_type": "code",
   "execution_count": 7,
   "id": "rwgZSxQgmpJ9",
   "metadata": {
    "id": "rwgZSxQgmpJ9"
   },
   "outputs": [],
   "source": [
    "z='Data Science'"
   ]
  },
  {
   "cell_type": "code",
   "execution_count": 8,
   "id": "36GcCCgbmuXU",
   "metadata": {
    "colab": {
     "base_uri": "https://localhost:8080/"
    },
    "id": "36GcCCgbmuXU",
    "outputId": "271ff044-91c7-4553-a3ea-ae25ee1ae205"
   },
   "outputs": [
    {
     "name": "stdout",
     "output_type": "stream",
     "text": [
      "12\n"
     ]
    }
   ],
   "source": [
    "print(len(z))"
   ]
  },
  {
   "cell_type": "markdown",
   "id": "db4b1440",
   "metadata": {
    "id": "db4b1440"
   },
   "source": [
    "**6. Print the last element in this string.**"
   ]
  },
  {
   "cell_type": "code",
   "execution_count": 9,
   "id": "4P_hApsXm9vz",
   "metadata": {
    "colab": {
     "base_uri": "https://localhost:8080/"
    },
    "id": "4P_hApsXm9vz",
    "outputId": "fc320377-9e1a-4686-c06d-495fa25eadcf"
   },
   "outputs": [
    {
     "name": "stdout",
     "output_type": "stream",
     "text": [
      "e\n"
     ]
    }
   ],
   "source": [
    "print(z[11])"
   ]
  },
  {
   "cell_type": "markdown",
   "id": "5af26c50",
   "metadata": {
    "id": "5af26c50"
   },
   "source": [
    "**7. Get every second element in the range from index 0 to index 4 in this string.**"
   ]
  },
  {
   "cell_type": "code",
   "execution_count": 10,
   "id": "HEaiuUoanLRx",
   "metadata": {
    "colab": {
     "base_uri": "https://localhost:8080/"
    },
    "id": "HEaiuUoanLRx",
    "outputId": "f8905dde-5f02-4497-a79b-fb20ee6cd5c0"
   },
   "outputs": [
    {
     "name": "stdout",
     "output_type": "stream",
     "text": [
      "Dt \n"
     ]
    }
   ],
   "source": [
    "print(z[0:5:2])"
   ]
  },
  {
   "cell_type": "markdown",
   "id": "98cfb44f",
   "metadata": {
    "id": "98cfb44f"
   },
   "source": [
    "**8. Convert the variable m to lowercase: m = \"I am a minimalist person\".**"
   ]
  },
  {
   "cell_type": "code",
   "execution_count": 11,
   "id": "sdJfbf4QnZST",
   "metadata": {
    "id": "sdJfbf4QnZST"
   },
   "outputs": [],
   "source": [
    "m='I am a minimalist person'"
   ]
  },
  {
   "cell_type": "code",
   "execution_count": 12,
   "id": "KBbIvJl5neMF",
   "metadata": {
    "colab": {
     "base_uri": "https://localhost:8080/"
    },
    "id": "KBbIvJl5neMF",
    "outputId": "8ba87084-b671-4d66-9c22-0be4e9f056e1"
   },
   "outputs": [
    {
     "name": "stdout",
     "output_type": "stream",
     "text": [
      "i am a minimalist person\n"
     ]
    }
   ],
   "source": [
    "print(m.lower())"
   ]
  },
  {
   "cell_type": "markdown",
   "id": "c287dcc8",
   "metadata": {
    "id": "c287dcc8"
   },
   "source": [
    "**9. Consider the variable g, and find the first index of the sub-string \"snow\" and replace the sub-string Mary with Tom.**\n",
    "\n",
    "\n",
    "g = \"Mary had a little lamb Little lamb, little lamb Mary had a little lamb\n",
    "Its fleece was white as snow And everywhere that Mary went Mary went, Mary went\n",
    "Everywhere that Mary went The lamb was sure to go\""
   ]
  },
  {
   "cell_type": "code",
   "execution_count": 13,
   "id": "zUFeN4EbnmKJ",
   "metadata": {
    "id": "zUFeN4EbnmKJ"
   },
   "outputs": [],
   "source": [
    "g = 'Mary had a little lamb Little lamb, little lamb Mary had a little lamb Its fleece was white as snow And everywhere that Mary went Mary went, Mary went Everywhere that Mary went The lamb was sure to go'"
   ]
  },
  {
   "cell_type": "code",
   "execution_count": 14,
   "id": "oU8gMnlRnwEc",
   "metadata": {
    "id": "oU8gMnlRnwEc"
   },
   "outputs": [],
   "source": [
    "d='snow'"
   ]
  },
  {
   "cell_type": "code",
   "execution_count": 15,
   "id": "vnRHdS0-oAQs",
   "metadata": {
    "colab": {
     "base_uri": "https://localhost:8080/"
    },
    "id": "vnRHdS0-oAQs",
    "outputId": "b26b085c-38e2-4038-a13a-49eb6a7dd85c"
   },
   "outputs": [
    {
     "name": "stdout",
     "output_type": "stream",
     "text": [
      "s\n"
     ]
    }
   ],
   "source": [
    "print(d[0])"
   ]
  },
  {
   "cell_type": "code",
   "execution_count": 16,
   "id": "sbiF2NQ7oEiy",
   "metadata": {
    "colab": {
     "base_uri": "https://localhost:8080/"
    },
    "id": "sbiF2NQ7oEiy",
    "outputId": "04e4afdd-8468-48e2-c16f-83a0290b8f51"
   },
   "outputs": [
    {
     "name": "stdout",
     "output_type": "stream",
     "text": [
      "Tom had a little lamb Little lamb, little lamb Tom had a little lamb Its fleece was white as snow And everywhere that Tom went Tom went, Tom went Everywhere that Tom went The lamb was sure to go\n"
     ]
    }
   ],
   "source": [
    "print(g.replace('Mary','Tom'))"
   ]
  },
  {
   "cell_type": "markdown",
   "id": "d2e6dd43",
   "metadata": {
    "id": "d2e6dd43"
   },
   "source": [
    "**10. In the variable g, split the substring to list.**"
   ]
  },
  {
   "cell_type": "code",
   "execution_count": 17,
   "id": "ZAcOBlRNoQv4",
   "metadata": {
    "colab": {
     "base_uri": "https://localhost:8080/"
    },
    "id": "ZAcOBlRNoQv4",
    "outputId": "39b61dfb-501c-475e-9a82-9e91274ab661"
   },
   "outputs": [
    {
     "data": {
      "text/plain": [
       "['Mary',\n",
       " 'had',\n",
       " 'a',\n",
       " 'little',\n",
       " 'lamb',\n",
       " 'Little',\n",
       " 'lamb,',\n",
       " 'little',\n",
       " 'lamb',\n",
       " 'Mary',\n",
       " 'had',\n",
       " 'a',\n",
       " 'little',\n",
       " 'lamb',\n",
       " 'Its',\n",
       " 'fleece',\n",
       " 'was',\n",
       " 'white',\n",
       " 'as',\n",
       " 'snow',\n",
       " 'And',\n",
       " 'everywhere',\n",
       " 'that',\n",
       " 'Mary',\n",
       " 'went',\n",
       " 'Mary',\n",
       " 'went,',\n",
       " 'Mary',\n",
       " 'went',\n",
       " 'Everywhere',\n",
       " 'that',\n",
       " 'Mary',\n",
       " 'went',\n",
       " 'The',\n",
       " 'lamb',\n",
       " 'was',\n",
       " 'sure',\n",
       " 'to',\n",
       " 'go']"
      ]
     },
     "execution_count": 17,
     "metadata": {},
     "output_type": "execute_result"
    }
   ],
   "source": [
    "g.split()"
   ]
  },
  {
   "cell_type": "code",
   "execution_count": null,
   "id": "e9e69de2",
   "metadata": {},
   "outputs": [],
   "source": []
  }
 ],
 "metadata": {
  "colab": {
   "provenance": []
  },
  "kernelspec": {
   "display_name": "Python 3 (ipykernel)",
   "language": "python",
   "name": "python3"
  },
  "language_info": {
   "codemirror_mode": {
    "name": "ipython",
    "version": 3
   },
   "file_extension": ".py",
   "mimetype": "text/x-python",
   "name": "python",
   "nbconvert_exporter": "python",
   "pygments_lexer": "ipython3",
   "version": "3.11.5"
  }
 },
 "nbformat": 4,
 "nbformat_minor": 5
}
